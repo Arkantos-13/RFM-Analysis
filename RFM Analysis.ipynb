{
 "cells": [
  {
   "cell_type": "markdown",
   "metadata": {},
   "source": [
    "# Import libraries"
   ]
  },
  {
   "cell_type": "markdown",
   "metadata": {},
   "source": [
    "This notebook aims at analyzing the content of an E-commerce database that lists purchases made by  ∼ 4000 customers over a period of one year (from 2010/12/01 to 2011/12/09). Based on this analysis, I develop a model that allows to anticipate the purchases that will be made by a new customer, during the following year and this, from its first purchase"
   ]
  },
  {
   "cell_type": "markdown",
   "metadata": {},
   "source": [
    "# Data Preperation "
   ]
  },
  {
   "cell_type": "code",
   "execution_count": 1,
   "metadata": {},
   "outputs": [],
   "source": [
    "import pandas as pd\n",
    "import datetime as dt\n",
    "import numpy as np\n",
    "import re\n",
    "\n",
    "from sklearn.preprocessing import StandardScaler\n",
    "from sklearn.manifold import TSNE\n",
    "from sklearn.cluster import KMeans\n",
    "\n",
    "import collections\n",
    "from collections import Counter\n",
    "from collections import defaultdict\n",
    "import itertools\n",
    "\n",
    "from scipy import stats\n",
    "from sklearn.metrics import silhouette_score\n",
    "\n",
    "import matplotlib.pyplot as plt\n",
    "import matplotlib.dates as mdates\n",
    "import seaborn as sns"
   ]
  },
  {
   "cell_type": "code",
   "execution_count": 2,
   "metadata": {},
   "outputs": [
    {
     "data": {
      "text/html": [
       "<div>\n",
       "<style scoped>\n",
       "    .dataframe tbody tr th:only-of-type {\n",
       "        vertical-align: middle;\n",
       "    }\n",
       "\n",
       "    .dataframe tbody tr th {\n",
       "        vertical-align: top;\n",
       "    }\n",
       "\n",
       "    .dataframe thead th {\n",
       "        text-align: right;\n",
       "    }\n",
       "</style>\n",
       "<table border=\"1\" class=\"dataframe\">\n",
       "  <thead>\n",
       "    <tr style=\"text-align: right;\">\n",
       "      <th></th>\n",
       "      <th>InvoiceNo</th>\n",
       "      <th>StockCode</th>\n",
       "      <th>Description</th>\n",
       "      <th>Quantity</th>\n",
       "      <th>InvoiceDate</th>\n",
       "      <th>UnitPrice</th>\n",
       "      <th>CustomerID</th>\n",
       "      <th>Country</th>\n",
       "    </tr>\n",
       "  </thead>\n",
       "  <tbody>\n",
       "    <tr>\n",
       "      <th>0</th>\n",
       "      <td>536365</td>\n",
       "      <td>85123A</td>\n",
       "      <td>WHITE HANGING HEART T-LIGHT HOLDER</td>\n",
       "      <td>6.0</td>\n",
       "      <td>12/1/2010 8:26</td>\n",
       "      <td>2.55</td>\n",
       "      <td>17850</td>\n",
       "      <td>United Kingdom</td>\n",
       "    </tr>\n",
       "    <tr>\n",
       "      <th>1</th>\n",
       "      <td>536365</td>\n",
       "      <td>71053</td>\n",
       "      <td>WHITE METAL LANTERN</td>\n",
       "      <td>6.0</td>\n",
       "      <td>12/1/2010 8:26</td>\n",
       "      <td>3.39</td>\n",
       "      <td>17850</td>\n",
       "      <td>United Kingdom</td>\n",
       "    </tr>\n",
       "    <tr>\n",
       "      <th>2</th>\n",
       "      <td>536365</td>\n",
       "      <td>84406B</td>\n",
       "      <td>CREAM CUPID HEARTS COAT HANGER</td>\n",
       "      <td>8.0</td>\n",
       "      <td>12/1/2010 8:26</td>\n",
       "      <td>2.75</td>\n",
       "      <td>17850</td>\n",
       "      <td>United Kingdom</td>\n",
       "    </tr>\n",
       "    <tr>\n",
       "      <th>3</th>\n",
       "      <td>536365</td>\n",
       "      <td>84029G</td>\n",
       "      <td>KNITTED UNION FLAG HOT WATER BOTTLE</td>\n",
       "      <td>6.0</td>\n",
       "      <td>12/1/2010 8:26</td>\n",
       "      <td>3.39</td>\n",
       "      <td>17850</td>\n",
       "      <td>United Kingdom</td>\n",
       "    </tr>\n",
       "    <tr>\n",
       "      <th>4</th>\n",
       "      <td>536365</td>\n",
       "      <td>84029E</td>\n",
       "      <td>RED WOOLLY HOTTIE WHITE HEART.</td>\n",
       "      <td>6.0</td>\n",
       "      <td>12/1/2010 8:26</td>\n",
       "      <td>3.39</td>\n",
       "      <td>17850</td>\n",
       "      <td>United Kingdom</td>\n",
       "    </tr>\n",
       "  </tbody>\n",
       "</table>\n",
       "</div>"
      ],
      "text/plain": [
       "  InvoiceNo StockCode                          Description  Quantity  \\\n",
       "0    536365    85123A   WHITE HANGING HEART T-LIGHT HOLDER       6.0   \n",
       "1    536365     71053                  WHITE METAL LANTERN       6.0   \n",
       "2    536365    84406B       CREAM CUPID HEARTS COAT HANGER       8.0   \n",
       "3    536365    84029G  KNITTED UNION FLAG HOT WATER BOTTLE       6.0   \n",
       "4    536365    84029E       RED WOOLLY HOTTIE WHITE HEART.       6.0   \n",
       "\n",
       "      InvoiceDate  UnitPrice CustomerID         Country  \n",
       "0  12/1/2010 8:26       2.55      17850  United Kingdom  \n",
       "1  12/1/2010 8:26       3.39      17850  United Kingdom  \n",
       "2  12/1/2010 8:26       2.75      17850  United Kingdom  \n",
       "3  12/1/2010 8:26       3.39      17850  United Kingdom  \n",
       "4  12/1/2010 8:26       3.39      17850  United Kingdom  "
      ]
     },
     "execution_count": 2,
     "metadata": {},
     "output_type": "execute_result"
    }
   ],
   "source": [
    "df = pd.read_csv('rfm_data.csv', encoding = 'unicode_escape', dtype = {'CustomerID' : str})\n",
    "\n",
    "# The first five rows\n",
    "df.head()"
   ]
  },
  {
   "cell_type": "code",
   "execution_count": 3,
   "metadata": {},
   "outputs": [
    {
     "data": {
      "text/html": [
       "<div>\n",
       "<style scoped>\n",
       "    .dataframe tbody tr th:only-of-type {\n",
       "        vertical-align: middle;\n",
       "    }\n",
       "\n",
       "    .dataframe tbody tr th {\n",
       "        vertical-align: top;\n",
       "    }\n",
       "\n",
       "    .dataframe thead th {\n",
       "        text-align: right;\n",
       "    }\n",
       "</style>\n",
       "<table border=\"1\" class=\"dataframe\">\n",
       "  <thead>\n",
       "    <tr style=\"text-align: right;\">\n",
       "      <th></th>\n",
       "      <th>InvoiceNo</th>\n",
       "      <th>StockCode</th>\n",
       "      <th>Description</th>\n",
       "      <th>Quantity</th>\n",
       "      <th>InvoiceDate</th>\n",
       "      <th>UnitPrice</th>\n",
       "      <th>CustomerID</th>\n",
       "      <th>Country</th>\n",
       "    </tr>\n",
       "  </thead>\n",
       "  <tbody>\n",
       "    <tr>\n",
       "      <th>541904</th>\n",
       "      <td>581587</td>\n",
       "      <td>22613</td>\n",
       "      <td>PACK OF 20 SPACEBOY NAPKINS</td>\n",
       "      <td>12.0</td>\n",
       "      <td>12/9/2011 12:50</td>\n",
       "      <td>0.85</td>\n",
       "      <td>12680</td>\n",
       "      <td>France</td>\n",
       "    </tr>\n",
       "    <tr>\n",
       "      <th>541905</th>\n",
       "      <td>581587</td>\n",
       "      <td>22899</td>\n",
       "      <td>CHILDREN'S APRON DOLLY GIRL</td>\n",
       "      <td>6.0</td>\n",
       "      <td>12/9/2011 12:50</td>\n",
       "      <td>2.10</td>\n",
       "      <td>12680</td>\n",
       "      <td>France</td>\n",
       "    </tr>\n",
       "    <tr>\n",
       "      <th>541906</th>\n",
       "      <td>581587</td>\n",
       "      <td>23254</td>\n",
       "      <td>CHILDRENS CUTLERY DOLLY GIRL</td>\n",
       "      <td>4.0</td>\n",
       "      <td>12/9/2011 12:50</td>\n",
       "      <td>4.15</td>\n",
       "      <td>12680</td>\n",
       "      <td>France</td>\n",
       "    </tr>\n",
       "    <tr>\n",
       "      <th>541907</th>\n",
       "      <td>581587</td>\n",
       "      <td>23255</td>\n",
       "      <td>CHILDRENS CUTLERY CIRCUS PARADE</td>\n",
       "      <td>4.0</td>\n",
       "      <td>12/9/2011 12:50</td>\n",
       "      <td>4.15</td>\n",
       "      <td>12680</td>\n",
       "      <td>France</td>\n",
       "    </tr>\n",
       "    <tr>\n",
       "      <th>541908</th>\n",
       "      <td>581587</td>\n",
       "      <td>22138</td>\n",
       "      <td>BAKING SET 9 PIECE RETROSPOT</td>\n",
       "      <td>3.0</td>\n",
       "      <td>12/9/2011 12:50</td>\n",
       "      <td>4.95</td>\n",
       "      <td>12680</td>\n",
       "      <td>France</td>\n",
       "    </tr>\n",
       "  </tbody>\n",
       "</table>\n",
       "</div>"
      ],
      "text/plain": [
       "       InvoiceNo StockCode                      Description  Quantity  \\\n",
       "541904    581587     22613      PACK OF 20 SPACEBOY NAPKINS      12.0   \n",
       "541905    581587     22899     CHILDREN'S APRON DOLLY GIRL        6.0   \n",
       "541906    581587     23254    CHILDRENS CUTLERY DOLLY GIRL        4.0   \n",
       "541907    581587     23255  CHILDRENS CUTLERY CIRCUS PARADE       4.0   \n",
       "541908    581587     22138    BAKING SET 9 PIECE RETROSPOT        3.0   \n",
       "\n",
       "            InvoiceDate  UnitPrice CustomerID Country  \n",
       "541904  12/9/2011 12:50       0.85      12680  France  \n",
       "541905  12/9/2011 12:50       2.10      12680  France  \n",
       "541906  12/9/2011 12:50       4.15      12680  France  \n",
       "541907  12/9/2011 12:50       4.15      12680  France  \n",
       "541908  12/9/2011 12:50       4.95      12680  France  "
      ]
     },
     "execution_count": 3,
     "metadata": {},
     "output_type": "execute_result"
    }
   ],
   "source": [
    "# The last five rows \n",
    "\n",
    "df.tail()"
   ]
  },
  {
   "cell_type": "markdown",
   "metadata": {},
   "source": [
    "# Let's understand the columns names first, before we move on "
   ]
  },
  {
   "cell_type": "markdown",
   "metadata": {},
   "source": [
    "# Data Explorations:\n",
    "### Columns Description :\n",
    "\n",
    "* InvoiceNo : Unique ID for every time a consumer visits the store\n",
    "* StockCode: Unique ID for a product\n",
    "* Description : Description of the product\n",
    "* Quantity : No of units bought\n",
    "*InvoiceDate : Date and time of purchase\n",
    "*Unit Price : Price for 1 unit of the product\n",
    "*CustomerId : Unique ID for each customer\n",
    "*Country : Country where transaction happened\n",
    "\n",
    "\n",
    "* Also for our analysis we need to calculate the total sales for each product by multiplying Quantity with Unit Price. Also, convert Invoice Date in YYYYMM format."
   ]
  },
  {
   "cell_type": "code",
   "execution_count": 4,
   "metadata": {},
   "outputs": [
    {
     "name": "stdout",
     "output_type": "stream",
     "text": [
      "The name of each column are below: \n",
      "\n",
      "1. InvoiceNo\n",
      "2. StockCode\n",
      "3. Description\n",
      "4. Quantity\n",
      "5. InvoiceDate\n",
      "6. UnitPrice\n",
      "7. CustomerID\n",
      "8. Country\n"
     ]
    }
   ],
   "source": [
    "print('The name of each column are below: \\n')\n",
    "i = 0 \n",
    "for column_name in df.columns:\n",
    "    i += 1\n",
    "    print(f'{i}.', column_name)"
   ]
  },
  {
   "cell_type": "code",
   "execution_count": 5,
   "metadata": {},
   "outputs": [],
   "source": [
    "# I will change the names or the first letters of some columns in order to make it easy as i type\n",
    "\n",
    "df.rename(index = str , \n",
    "          columns = {'InvoiceNo': 'invoice_num',\n",
    "                    'StockCode' : 'stock_code',\n",
    "                    'Description' : 'description',\n",
    "                    'Quantity' : 'quantity',\n",
    "                    'InvoiceDate' : 'invoice_date',\n",
    "                    'UnitPrice' : 'unit_price',\n",
    "                    'CustomerID' : 'customer_id',\n",
    "                    'Country' : 'country'}, inplace=True)"
   ]
  },
  {
   "cell_type": "code",
   "execution_count": 6,
   "metadata": {},
   "outputs": [
    {
     "name": "stdout",
     "output_type": "stream",
     "text": [
      "The shape of our dataset is, (541909, 8)\n"
     ]
    }
   ],
   "source": [
    "# The data has 541909 entries and 8 variables\n",
    "\n",
    "print('The shape of our dataset is,', df.shape)"
   ]
  },
  {
   "cell_type": "code",
   "execution_count": 7,
   "metadata": {},
   "outputs": [
    {
     "name": "stdout",
     "output_type": "stream",
     "text": [
      "Some info about our dataset is below: \n",
      "\n",
      "<class 'pandas.core.frame.DataFrame'>\n",
      "Index: 541909 entries, 0 to 541908\n",
      "Data columns (total 8 columns):\n",
      " #   Column        Non-Null Count   Dtype  \n",
      "---  ------        --------------   -----  \n",
      " 0   invoice_num   541909 non-null  object \n",
      " 1   stock_code    535874 non-null  object \n",
      " 2   description   534420 non-null  object \n",
      " 3   quantity      535874 non-null  float64\n",
      " 4   invoice_date  535874 non-null  object \n",
      " 5   unit_price    535874 non-null  float64\n",
      " 6   customer_id   403182 non-null  object \n",
      " 7   country       535874 non-null  object \n",
      "dtypes: float64(2), object(6)\n",
      "memory usage: 37.2+ MB\n"
     ]
    }
   ],
   "source": [
    "print('Some info about our dataset is below: \\n')\n",
    "df.info()"
   ]
  },
  {
   "cell_type": "code",
   "execution_count": 8,
   "metadata": {},
   "outputs": [
    {
     "name": "stdout",
     "output_type": "stream",
     "text": [
      "Here are info about the type of each column: \n",
      "\n"
     ]
    },
    {
     "data": {
      "text/plain": [
       "invoice_num      object\n",
       "stock_code       object\n",
       "description      object\n",
       "quantity        float64\n",
       "invoice_date     object\n",
       "unit_price      float64\n",
       "customer_id      object\n",
       "country          object\n",
       "dtype: object"
      ]
     },
     "execution_count": 8,
     "metadata": {},
     "output_type": "execute_result"
    }
   ],
   "source": [
    "print('Here are info about the type of each column: \\n')\n",
    "df.dtypes"
   ]
  },
  {
   "cell_type": "markdown",
   "metadata": {},
   "source": [
    "## Dealing with the missing data"
   ]
  },
  {
   "cell_type": "code",
   "execution_count": 9,
   "metadata": {},
   "outputs": [],
   "source": [
    "# One way in order to check for missing values, but i prefer the second\n",
    "\n",
    "#df.isnull().any()"
   ]
  },
  {
   "cell_type": "code",
   "execution_count": 10,
   "metadata": {},
   "outputs": [
    {
     "name": "stdout",
     "output_type": "stream",
     "text": [
      "Here we can view the missing data in our dataset: \n",
      "\n"
     ]
    },
    {
     "data": {
      "text/plain": [
       "invoice_num          0\n",
       "stock_code        6035\n",
       "description       7489\n",
       "quantity          6035\n",
       "invoice_date      6035\n",
       "unit_price        6035\n",
       "customer_id     138727\n",
       "country           6035\n",
       "dtype: int64"
      ]
     },
     "execution_count": 10,
     "metadata": {},
     "output_type": "execute_result"
    }
   ],
   "source": [
    "# As we can see we have a lot of missing data in this dataset\n",
    "# However some of them is not really important, so we don't have problem so far\n",
    "\n",
    "print('Here we can view the missing data in our dataset: \\n')\n",
    "df.isnull().sum()"
   ]
  },
  {
   "cell_type": "code",
   "execution_count": 11,
   "metadata": {},
   "outputs": [
    {
     "name": "stdout",
     "output_type": "stream",
     "text": [
      "Here we can view the percentage of the missing data in our dataset: \n",
      "\n"
     ]
    },
    {
     "data": {
      "text/plain": [
       "invoice_num      0.000000\n",
       "stock_code       1.113656\n",
       "description      1.381966\n",
       "quantity         1.113656\n",
       "invoice_date     1.113656\n",
       "unit_price       1.113656\n",
       "customer_id     25.599686\n",
       "country          1.113656\n",
       "dtype: float64"
      ]
     },
     "execution_count": 11,
     "metadata": {},
     "output_type": "execute_result"
    }
   ],
   "source": [
    "print('Here we can view the percentage of the missing data in our dataset: \\n')\n",
    "missing_percentage = ( df.isnull().sum() / df.shape[0] ) * 100\n",
    "missing_percentage"
   ]
  },
  {
   "cell_type": "markdown",
   "metadata": {},
   "source": [
    "* As we can see above almost the 26% of the customers are unknown!\n",
    "* Moreover, we have 1.1% of the other columns missing\n",
    "* We have to dig deaper in order to understand more our dataset"
   ]
  },
  {
   "cell_type": "code",
   "execution_count": 12,
   "metadata": {},
   "outputs": [
    {
     "data": {
      "image/png": "[encoded data removed]",
      "text/plain": [
       "<Figure size 1008x144 with 1 Axes>"
      ]
     },
     "metadata": {
      "needs_background": "light"
     },
     "output_type": "display_data"
    }
   ],
   "source": [
    "fig,ax = plt.subplots( figsize=(14,2))\n",
    "((df.isnull().sum() / len(df))*100).plot.bar(ax=ax)\n",
    "ax.set_title('% of Null Values')\n",
    "plt.show()"
   ]
  },
  {
   "cell_type": "code",
   "execution_count": 13,
   "metadata": {},
   "outputs": [
    {
     "name": "stdout",
     "output_type": "stream",
     "text": [
      "Missing Values: 0\n"
     ]
    }
   ],
   "source": [
    "# Drop the missing values \n",
    "\n",
    "df.dropna(inplace=True)\n",
    "print('Missing Values: {}'.format(df.isnull().sum().sum()))"
   ]
  },
  {
   "cell_type": "code",
   "execution_count": 14,
   "metadata": {},
   "outputs": [
    {
     "data": {
      "text/plain": [
       "invoice_num     0\n",
       "stock_code      0\n",
       "description     0\n",
       "quantity        0\n",
       "invoice_date    0\n",
       "unit_price      0\n",
       "customer_id     0\n",
       "country         0\n",
       "dtype: int64"
      ]
     },
     "execution_count": 14,
     "metadata": {},
     "output_type": "execute_result"
    }
   ],
   "source": [
    "#Double check it, just in case\n",
    "\n",
    "df.isnull().sum()"
   ]
  },
  {
   "cell_type": "code",
   "execution_count": 15,
   "metadata": {},
   "outputs": [],
   "source": [
    "# Deal with the duplicates \n",
    "\n",
    "df.drop_duplicates(inplace = True)"
   ]
  },
  {
   "cell_type": "code",
   "execution_count": 16,
   "metadata": {},
   "outputs": [
    {
     "data": {
      "text/plain": [
       "(398003, 8)"
      ]
     },
     "execution_count": 16,
     "metadata": {},
     "output_type": "execute_result"
    }
   ],
   "source": [
    "# If you check the firest shape we had many duplicates \n",
    "\n",
    "df.shape"
   ]
  },
  {
   "cell_type": "code",
   "execution_count": 17,
   "metadata": {},
   "outputs": [
    {
     "data": {
      "text/plain": [
       "0         False\n",
       "1         False\n",
       "2         False\n",
       "3         False\n",
       "4         False\n",
       "          ...  \n",
       "541904    False\n",
       "541905    False\n",
       "541906    False\n",
       "541907    False\n",
       "541908    False\n",
       "Name: customer_id, Length: 398003, dtype: bool"
      ]
     },
     "execution_count": 17,
     "metadata": {},
     "output_type": "execute_result"
    }
   ],
   "source": [
    "### ALLAGH THESIS AVRIO \n",
    "\n",
    "(df['customer_id'].isnull()) & (df['description'].isnull()).value_counts().sum()"
   ]
  },
  {
   "cell_type": "markdown",
   "metadata": {},
   "source": [
    "### Time"
   ]
  },
  {
   "cell_type": "code",
   "execution_count": 18,
   "metadata": {},
   "outputs": [],
   "source": [
    "# Change the format of the invoice_date \n",
    "\n",
    "df['invoice_date'] = pd.to_datetime(df['invoice_date']).dt.strftime('%m/%d/%y %h%m%s')"
   ]
  },
  {
   "cell_type": "code",
   "execution_count": 19,
   "metadata": {},
   "outputs": [
    {
     "name": "stdout",
     "output_type": "stream",
     "text": [
      "The datafile starts with timepoint 2010-12-01 08:26:00 \n",
      "\n",
      "The datafile ends with timepoint 2011-12-09 12:50:00\n"
     ]
    }
   ],
   "source": [
    "print(\"The datafile starts with timepoint {} \\n\".format(df['invoice_date'].min()))\n",
    "print(\"The datafile ends with timepoint {}\".format((df['invoice_date'].max())))"
   ]
  },
  {
   "cell_type": "code",
   "execution_count": 20,
   "metadata": {},
   "outputs": [
    {
     "data": {
      "text/plain": [
       "invoice_num      object\n",
       "stock_code       object\n",
       "description      object\n",
       "quantity        float64\n",
       "invoice_date     object\n",
       "unit_price      float64\n",
       "customer_id      object\n",
       "country          object\n",
       "dtype: object"
      ]
     },
     "execution_count": 20,
     "metadata": {},
     "output_type": "execute_result"
    }
   ],
   "source": [
    "df.dtypes"
   ]
  },
  {
   "cell_type": "markdown",
   "metadata": {},
   "source": [
    "### Explore the data "
   ]
  },
  {
   "cell_type": "code",
   "execution_count": 21,
   "metadata": {},
   "outputs": [
    {
     "name": "stdout",
     "output_type": "stream",
     "text": [
      "Below are the unique name of the countries: \n",
      "\n",
      "1. United Kingdom\n",
      "2. France\n",
      "3. Australia\n",
      "4. Netherlands\n",
      "5. Germany\n",
      "6. Norway\n",
      "7. EIRE\n",
      "8. Switzerland\n",
      "9. Spain\n",
      "10. Poland\n",
      "11. Portugal\n",
      "12. Italy\n",
      "13. Belgium\n",
      "14. Lithuania\n",
      "15. Japan\n",
      "16. Iceland\n",
      "17. Channel Islands\n",
      "18. Denmark\n",
      "19. Cyprus\n",
      "20. Sweden\n",
      "21. Austria\n",
      "22. Israel\n",
      "23. Finland\n",
      "24. Greece\n",
      "25. Singapore\n",
      "26. Lebanon\n",
      "27. United Arab Emirates\n",
      "28. Saudi Arabia\n",
      "29. Czech Republic\n",
      "30. Canada\n",
      "31. Unspecified\n",
      "32. Brazil\n",
      "33. USA\n",
      "34. European Community\n",
      "35. Bahrain\n",
      "36. Malta\n",
      "37. RSA\n"
     ]
    }
   ],
   "source": [
    "print('Below are the unique name of the countries: \\n')\n",
    "\n",
    "i = 0 \n",
    "for country_name in df['country'].unique() :\n",
    "    \n",
    "    i += 1\n",
    "    print(f'{i}.', country_name)"
   ]
  },
  {
   "cell_type": "code",
   "execution_count": 22,
   "metadata": {},
   "outputs": [
    {
     "name": "stdout",
     "output_type": "stream",
     "text": [
      "In general the total numbers of the countries are: 37\n"
     ]
    }
   ],
   "source": [
    "print('In general the total numbers of the countries are:' , i)"
   ]
  },
  {
   "cell_type": "code",
   "execution_count": 23,
   "metadata": {},
   "outputs": [
    {
     "name": "stdout",
     "output_type": "stream",
     "text": [
      "There are 3603 missing items\n"
     ]
    }
   ],
   "source": [
    "# How many unique product are there?\n",
    "\n",
    "missing_items = df['stock_code'].nunique()\n",
    "\n",
    "print(f'There are {missing_items} missing items')"
   ]
  },
  {
   "cell_type": "code",
   "execution_count": 24,
   "metadata": {},
   "outputs": [
    {
     "data": {
      "text/plain": [
       "85123A    2065\n",
       "22423     1894\n",
       "85099B    1659\n",
       "47566     1409\n",
       "84879     1405\n",
       "Name: stock_code, dtype: int64"
      ]
     },
     "execution_count": 24,
     "metadata": {},
     "output_type": "execute_result"
    }
   ],
   "source": [
    "# How many of each product are there?\n",
    "\n",
    "df['stock_code'].value_counts().head()"
   ]
  },
  {
   "cell_type": "code",
   "execution_count": 25,
   "metadata": {},
   "outputs": [
    {
     "name": "stdout",
     "output_type": "stream",
     "text": [
      "The most wanted items in the dataset are \n",
      "\n"
     ]
    },
    {
     "data": {
      "text/plain": [
       "85123A    2065\n",
       "22423     1894\n",
       "85099B    1659\n",
       "47566     1409\n",
       "84879     1405\n",
       "Name: stock_code, dtype: int64"
      ]
     },
     "execution_count": 25,
     "metadata": {},
     "output_type": "execute_result"
    }
   ],
   "source": [
    "# Sort the 5 most ordered products from most to least.\n",
    "\n",
    "most_wanted = df['stock_code'].value_counts().sort_values(ascending=False)\n",
    "\n",
    "print('The most wanted items in the dataset are \\n')\n",
    "most_wanted.head()"
   ]
  },
  {
   "cell_type": "code",
   "execution_count": 26,
   "metadata": {},
   "outputs": [
    {
     "name": "stdout",
     "output_type": "stream",
     "text": [
      "The most not wanted items in the dataset are \n",
      "\n"
     ]
    },
    {
     "data": {
      "text/plain": [
       "90130A    1\n",
       "90048     1\n",
       "35610B    1\n",
       "37471     1\n",
       "35610C    1\n",
       "Name: stock_code, dtype: int64"
      ]
     },
     "execution_count": 26,
     "metadata": {},
     "output_type": "execute_result"
    }
   ],
   "source": [
    "# Sort the 5 not most ordered products from most to least.\n",
    "\n",
    "not_most_wanted = df['stock_code'].value_counts().sort_values(ascending=True)\n",
    "\n",
    "print('The most not wanted items in the dataset are \\n')\n",
    "not_most_wanted.head()"
   ]
  },
  {
   "cell_type": "code",
   "execution_count": 27,
   "metadata": {},
   "outputs": [
    {
     "name": "stdout",
     "output_type": "stream",
     "text": [
      "Below are the top five items we have: \n",
      "\n"
     ]
    },
    {
     "data": {
      "text/plain": [
       "stock_code  description                       \n",
       "85123A      WHITE HANGING HEART T-LIGHT HOLDER    2058\n",
       "22423       REGENCY CAKESTAND 3 TIER              1894\n",
       "85099B      JUMBO BAG RED RETROSPOT               1659\n",
       "47566       PARTY BUNTING                         1409\n",
       "84879       ASSORTED COLOUR BIRD ORNAMENT         1405\n",
       "Name: description, dtype: int64"
      ]
     },
     "execution_count": 27,
     "metadata": {},
     "output_type": "execute_result"
    }
   ],
   "source": [
    "# But what kinf of products are these ? \n",
    "print('Below are the top five items we have: \\n')\n",
    "\n",
    "most_wanted_item = df.groupby('stock_code')['description'].value_counts().sort_values(ascending=False)\n",
    "most_wanted_item.head()"
   ]
  },
  {
   "cell_type": "code",
   "execution_count": 28,
   "metadata": {},
   "outputs": [
    {
     "name": "stdout",
     "output_type": "stream",
     "text": [
      "Below are the last five items we have: \n",
      "\n"
     ]
    },
    {
     "data": {
      "text/plain": [
       "stock_code  description                    \n",
       "84877A      PINK ROUND COMPACT MIRROR          1\n",
       "90165B      WHITE ROSEBUD  PEARL EARRINGS      1\n",
       "84569C      PACK 4 FLOWER/BUTTERFLY PATCHES    1\n",
       "90167       BEADED LOVE HEART JEWELLERY SET    1\n",
       "84551       CROCHET DOG KEYRING                1\n",
       "Name: description, dtype: int64"
      ]
     },
     "execution_count": 28,
     "metadata": {},
     "output_type": "execute_result"
    }
   ],
   "source": [
    "# But what kinf of products are these ? \n",
    "print('Below are the last five items we have: \\n')\n",
    "\n",
    "most_wanted_item = df.groupby('stock_code')['description'].value_counts().sort_values(ascending=True)\n",
    "most_wanted_item.head()"
   ]
  },
  {
   "cell_type": "code",
   "execution_count": 29,
   "metadata": {},
   "outputs": [
    {
     "name": "stdout",
     "output_type": "stream",
     "text": [
      "The total number of items that was canceled are 8807\n"
     ]
    }
   ],
   "source": [
    "# The number of canceled orders \n",
    "# In the data description we can find that a cancelled transactions starts with a \"C\" in front of it. \n",
    "# Let's create a feature to easily filter out these cases:\n",
    "\n",
    "canceled = (df[\"invoice_num\"].str.contains(\"C\", na=False)).sum()\n",
    "\n",
    "print('The total number of items that was canceled are', canceled)\n"
   ]
  },
  {
   "cell_type": "code",
   "execution_count": 30,
   "metadata": {},
   "outputs": [
    {
     "name": "stdout",
     "output_type": "stream",
     "text": [
      "The percentage of canceled orders is  2.21 %\n"
     ]
    }
   ],
   "source": [
    "per_canceled = ((canceled / df.shape[0]) * 100 ).round(2)\n",
    "print('The percentage of canceled orders is ',per_canceled , '%')"
   ]
  },
  {
   "cell_type": "code",
   "execution_count": 31,
   "metadata": {},
   "outputs": [
    {
     "name": "stdout",
     "output_type": "stream",
     "text": [
      "True\n"
     ]
    }
   ],
   "source": [
    "# I am checking if there is negative quantity in tha data \n",
    "\n",
    "flag = False\n",
    "if (df['quantity'] < 0).any(): \n",
    "    flag = True\n",
    "    print(flag)"
   ]
  },
  {
   "cell_type": "code",
   "execution_count": 32,
   "metadata": {},
   "outputs": [
    {
     "data": {
      "text/html": [
       "<div>\n",
       "<style scoped>\n",
       "    .dataframe tbody tr th:only-of-type {\n",
       "        vertical-align: middle;\n",
       "    }\n",
       "\n",
       "    .dataframe tbody tr th {\n",
       "        vertical-align: top;\n",
       "    }\n",
       "\n",
       "    .dataframe thead th {\n",
       "        text-align: right;\n",
       "    }\n",
       "</style>\n",
       "<table border=\"1\" class=\"dataframe\">\n",
       "  <thead>\n",
       "    <tr style=\"text-align: right;\">\n",
       "      <th></th>\n",
       "      <th>invoice_num</th>\n",
       "      <th>stock_code</th>\n",
       "      <th>description</th>\n",
       "      <th>quantity</th>\n",
       "      <th>invoice_date</th>\n",
       "      <th>unit_price</th>\n",
       "      <th>customer_id</th>\n",
       "      <th>country</th>\n",
       "    </tr>\n",
       "  </thead>\n",
       "  <tbody>\n",
       "    <tr>\n",
       "      <th>141</th>\n",
       "      <td>C536379</td>\n",
       "      <td>D</td>\n",
       "      <td>Discount</td>\n",
       "      <td>-1.0</td>\n",
       "      <td>2010-12-01 09:41:00</td>\n",
       "      <td>27.50</td>\n",
       "      <td>14527</td>\n",
       "      <td>United Kingdom</td>\n",
       "    </tr>\n",
       "    <tr>\n",
       "      <th>154</th>\n",
       "      <td>C536383</td>\n",
       "      <td>35004C</td>\n",
       "      <td>SET OF 3 COLOURED  FLYING DUCKS</td>\n",
       "      <td>-1.0</td>\n",
       "      <td>2010-12-01 09:49:00</td>\n",
       "      <td>4.65</td>\n",
       "      <td>15311</td>\n",
       "      <td>United Kingdom</td>\n",
       "    </tr>\n",
       "    <tr>\n",
       "      <th>235</th>\n",
       "      <td>C536391</td>\n",
       "      <td>22556</td>\n",
       "      <td>PLASTERS IN TIN CIRCUS PARADE</td>\n",
       "      <td>-12.0</td>\n",
       "      <td>2010-12-01 10:24:00</td>\n",
       "      <td>1.65</td>\n",
       "      <td>17548</td>\n",
       "      <td>United Kingdom</td>\n",
       "    </tr>\n",
       "    <tr>\n",
       "      <th>236</th>\n",
       "      <td>C536391</td>\n",
       "      <td>21984</td>\n",
       "      <td>PACK OF 12 PINK PAISLEY TISSUES</td>\n",
       "      <td>-24.0</td>\n",
       "      <td>2010-12-01 10:24:00</td>\n",
       "      <td>0.29</td>\n",
       "      <td>17548</td>\n",
       "      <td>United Kingdom</td>\n",
       "    </tr>\n",
       "    <tr>\n",
       "      <th>237</th>\n",
       "      <td>C536391</td>\n",
       "      <td>21983</td>\n",
       "      <td>PACK OF 12 BLUE PAISLEY TISSUES</td>\n",
       "      <td>-24.0</td>\n",
       "      <td>2010-12-01 10:24:00</td>\n",
       "      <td>0.29</td>\n",
       "      <td>17548</td>\n",
       "      <td>United Kingdom</td>\n",
       "    </tr>\n",
       "  </tbody>\n",
       "</table>\n",
       "</div>"
      ],
      "text/plain": [
       "    invoice_num stock_code                       description  quantity  \\\n",
       "141     C536379          D                          Discount      -1.0   \n",
       "154     C536383     35004C   SET OF 3 COLOURED  FLYING DUCKS      -1.0   \n",
       "235     C536391      22556    PLASTERS IN TIN CIRCUS PARADE      -12.0   \n",
       "236     C536391      21984  PACK OF 12 PINK PAISLEY TISSUES      -24.0   \n",
       "237     C536391      21983  PACK OF 12 BLUE PAISLEY TISSUES      -24.0   \n",
       "\n",
       "            invoice_date  unit_price customer_id         country  \n",
       "141  2010-12-01 09:41:00       27.50       14527  United Kingdom  \n",
       "154  2010-12-01 09:49:00        4.65       15311  United Kingdom  \n",
       "235  2010-12-01 10:24:00        1.65       17548  United Kingdom  \n",
       "236  2010-12-01 10:24:00        0.29       17548  United Kingdom  \n",
       "237  2010-12-01 10:24:00        0.29       17548  United Kingdom  "
      ]
     },
     "execution_count": 32,
     "metadata": {},
     "output_type": "execute_result"
    }
   ],
   "source": [
    "asd = df[df['quantity'] < 0]\n",
    "asd.head()"
   ]
  },
  {
   "cell_type": "markdown",
   "metadata": {},
   "source": [
    "### Cancelled Orders & Quantity"
   ]
  },
  {
   "cell_type": "code",
   "execution_count": 33,
   "metadata": {},
   "outputs": [],
   "source": [
    "df[\"TotalPrice\"] = df[\"quantity\"] * df[\"unit_price\"]"
   ]
  },
  {
   "cell_type": "markdown",
   "metadata": {},
   "source": [
    "### Calculation of RFM metrics\n",
    "\n",
    "* Recency : the number of days between today_date and the last purchase date of this customer\n",
    "\n",
    "* Frequency : the number of purchase of this customer\n",
    "\n",
    "* Monetary : sum of TotalPrice of this customer"
   ]
  },
  {
   "cell_type": "code",
   "execution_count": null,
   "metadata": {},
   "outputs": [],
   "source": []
  },
  {
   "cell_type": "code",
   "execution_count": null,
   "metadata": {},
   "outputs": [],
   "source": []
  },
  {
   "cell_type": "code",
   "execution_count": null,
   "metadata": {},
   "outputs": [],
   "source": []
  },
  {
   "cell_type": "code",
   "execution_count": null,
   "metadata": {},
   "outputs": [],
   "source": []
  }
 ],
 "metadata": {
  "kernelspec": {
   "display_name": "Python 3",
   "language": "python",
   "name": "python3"
  },
  "language_info": {
   "codemirror_mode": {
    "name": "ipython",
    "version": 3
   },
   "file_extension": ".py",
   "mimetype": "text/x-python",
   "name": "python",
   "nbconvert_exporter": "python",
   "pygments_lexer": "ipython3",
   "version": "3.8.5"
  }
 },
 "nbformat": 4,
 "nbformat_minor": 4
}
